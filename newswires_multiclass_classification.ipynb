{
  "nbformat": 4,
  "nbformat_minor": 0,
  "metadata": {
    "colab": {
      "name": "newswires-multiclass-classification.ipynb",
      "provenance": [],
      "collapsed_sections": [],
      "authorship_tag": "ABX9TyNKGlpyVsmcCwfgVAfuRCYc",
      "include_colab_link": true
    },
    "kernelspec": {
      "name": "python3",
      "display_name": "Python 3"
    }
  },
  "cells": [
    {
      "cell_type": "markdown",
      "metadata": {
        "id": "view-in-github",
        "colab_type": "text"
      },
      "source": [
        "<a href=\"https://colab.research.google.com/github/Harshit-Raj-2000/classifying-newswires-multiclass-classification/blob/main/newswires_multiclass_classification.ipynb\" target=\"_parent\"><img src=\"https://colab.research.google.com/assets/colab-badge.svg\" alt=\"Open In Colab\"/></a>"
      ]
    },
    {
      "cell_type": "code",
      "metadata": {
        "colab": {
          "base_uri": "https://localhost:8080/"
        },
        "id": "gfNiYPc3IakG",
        "outputId": "99d77b98-ae93-4777-df44-1934c6e46473"
      },
      "source": [
        "from keras.datasets import reuters\r\n",
        "\r\n",
        "(train_data,train_labels),(test_data,test_labels) = reuters.load_data(num_words=10000)"
      ],
      "execution_count": 4,
      "outputs": [
        {
          "output_type": "stream",
          "text": [
            "Downloading data from https://storage.googleapis.com/tensorflow/tf-keras-datasets/reuters.npz\n",
            "2113536/2110848 [==============================] - 0s 0us/step\n"
          ],
          "name": "stdout"
        },
        {
          "output_type": "stream",
          "text": [
            "/usr/local/lib/python3.6/dist-packages/tensorflow/python/keras/datasets/reuters.py:148: VisibleDeprecationWarning: Creating an ndarray from ragged nested sequences (which is a list-or-tuple of lists-or-tuples-or ndarrays with different lengths or shapes) is deprecated. If you meant to do this, you must specify 'dtype=object' when creating the ndarray\n",
            "  x_train, y_train = np.array(xs[:idx]), np.array(labels[:idx])\n",
            "/usr/local/lib/python3.6/dist-packages/tensorflow/python/keras/datasets/reuters.py:149: VisibleDeprecationWarning: Creating an ndarray from ragged nested sequences (which is a list-or-tuple of lists-or-tuples-or ndarrays with different lengths or shapes) is deprecated. If you meant to do this, you must specify 'dtype=object' when creating the ndarray\n",
            "  x_test, y_test = np.array(xs[idx:]), np.array(labels[idx:])\n"
          ],
          "name": "stderr"
        }
      ]
    },
    {
      "cell_type": "code",
      "metadata": {
        "colab": {
          "base_uri": "https://localhost:8080/"
        },
        "id": "CcvnklK5k_tx",
        "outputId": "9252c802-f148-4d2d-d54e-c49cf4a5e517"
      },
      "source": [
        "#just a way to get backk the text from the sequence of numbers\r\n",
        "word_index = reuters.get_word_index()\r\n",
        "reverse_word_index = dict([(value,key) for (key,value) in word_index.items()])\r\n",
        "decoded = ' '.join([reverse_word_index.get(i-3,'?') for i in train_data[0]])\r\n",
        "train_labels[10]"
      ],
      "execution_count": 5,
      "outputs": [
        {
          "output_type": "stream",
          "text": [
            "Downloading data from https://storage.googleapis.com/tensorflow/tf-keras-datasets/reuters_word_index.json\n",
            "557056/550378 [==============================] - 0s 0us/step\n"
          ],
          "name": "stdout"
        },
        {
          "output_type": "execute_result",
          "data": {
            "text/plain": [
              "3"
            ]
          },
          "metadata": {
            "tags": []
          },
          "execution_count": 5
        }
      ]
    },
    {
      "cell_type": "code",
      "metadata": {
        "id": "iIbDfnUz2hoR"
      },
      "source": [
        "import numpy as np\r\n",
        "\r\n",
        "def vectorize_sequences(sequences, dimension=10000):\r\n",
        "  results = np.zeros((len(sequences),dimension))\r\n",
        "  for i,sequence in enumerate(sequences):\r\n",
        "    results[i,sequence] = 1\r\n",
        "  return results\r\n",
        "\r\n",
        "x_train = vectorize_sequences(train_data)\r\n",
        "x_test = vectorize_sequences(test_data)\r\n"
      ],
      "execution_count": 6,
      "outputs": []
    },
    {
      "cell_type": "code",
      "metadata": {
        "id": "BbQ3fai44TLr"
      },
      "source": [
        "def to_one_hot(labels, dimension=46):\r\n",
        "  results = np.zeros((len(labels),dimension))\r\n",
        "  for i,label in enumerate(labels):\r\n",
        "    results[i,label] = 1\r\n",
        "  return results\r\n",
        "\r\n",
        "one_hot_train_labels = to_one_hot(train_labels)\r\n",
        "one_hot_test_labels = to_one_hot(test_labels)\r\n"
      ],
      "execution_count": 7,
      "outputs": []
    },
    {
      "cell_type": "code",
      "metadata": {
        "id": "57W7wFRV97oh"
      },
      "source": [
        "# the to_one_hot function is same as the built in to_categorical function\r\n",
        "#\r\n",
        "#form keras.utils.np_utils import to_categorical\r\n",
        "#\r\n",
        "#one_hot_train_labels = to_categorical(train_labels)\r\n",
        "#one_hot_test_labels = to_categorical(test_labels)"
      ],
      "execution_count": 8,
      "outputs": []
    },
    {
      "cell_type": "code",
      "metadata": {
        "id": "5-lteQE3tyfa"
      },
      "source": [
        "from keras import models,layers\r\n",
        "\r\n",
        "model = models.Sequential()\r\n",
        "model.add(layers.Dense(64,activation='relu',input_shape=(10000,)))\r\n",
        "model.add(layers.Dense(64,activation='relu'))\r\n",
        "model.add(layers.Dense(46,activation='softmax'))"
      ],
      "execution_count": 9,
      "outputs": []
    },
    {
      "cell_type": "code",
      "metadata": {
        "id": "dDMThPVWuyja"
      },
      "source": [
        "model.compile(optimizer='rmsprop',\r\n",
        "              loss='categorical_crossentropy',\r\n",
        "              metrics = ['accuracy'])"
      ],
      "execution_count": 10,
      "outputs": []
    },
    {
      "cell_type": "code",
      "metadata": {
        "id": "zW9QGJnkvBKa"
      },
      "source": [
        "x_val = x_train[:1000]\r\n",
        "partial_x_train = x_train[1000:]\r\n",
        "\r\n",
        "y_val = one_hot_train_labels[:1000]\r\n",
        "partial_y_train = one_hot_train_labels[1000:]"
      ],
      "execution_count": 11,
      "outputs": []
    },
    {
      "cell_type": "code",
      "metadata": {
        "id": "AUNP7h5lvwj0"
      },
      "source": [
        "history = model.fit(partial_x_train,partial_y_train,\r\n",
        "                    epochs=20,batch_size=512,validation_data=(x_val,y_val))"
      ],
      "execution_count": null,
      "outputs": []
    },
    {
      "cell_type": "code",
      "metadata": {
        "colab": {
          "base_uri": "https://localhost:8080/",
          "height": 295
        },
        "id": "RrQdmb7lwQ3_",
        "outputId": "d3e2ff86-89be-493e-896a-e42d7823a8fd"
      },
      "source": [
        "import matplotlib.pyplot as plt\r\n",
        "\r\n",
        "loss = history.history['loss']\r\n",
        "val_loss = history.history['val_loss']\r\n",
        "\r\n",
        "epochs = range(1,len(loss)+1)\r\n",
        "\r\n",
        "plt.plot(epochs, loss, 'bo', label='Training Loss')\r\n",
        "plt.plot(epochs, val_loss, 'b', label='Validation Loss')\r\n",
        "plt.title('Training and validation loss')\r\n",
        "plt.xlabel('Epochs')\r\n",
        "plt.ylabel('Loss')\r\n",
        "plt.legend()\r\n",
        "plt.show()"
      ],
      "execution_count": 15,
      "outputs": [
        {
          "output_type": "display_data",
          "data": {
            "image/png": "[encoded data removed]",
            "text/plain": [
              "<Figure size 432x288 with 1 Axes>"
            ]
          },
          "metadata": {
            "tags": [],
            "needs_background": "light"
          }
        }
      ]
    },
    {
      "cell_type": "code",
      "metadata": {
        "colab": {
          "base_uri": "https://localhost:8080/",
          "height": 295
        },
        "id": "i_Gk5tC9xoeG",
        "outputId": "dca1ee69-81ae-4327-bcb7-0798be0f9886"
      },
      "source": [
        "acc = history.history['accuracy']\r\n",
        "val_acc = history.history['val_accuracy']\r\n",
        "\r\n",
        "plt.plot(epochs, acc, 'bo', label='Training accuracy')\r\n",
        "plt.plot(epochs,val_acc,'b', label='Validation accuracy')\r\n",
        "plt.title('Training and validation accuracy')\r\n",
        "plt.xlabel('Epochs')\r\n",
        "plt.ylabel('Accuracy')\r\n",
        "plt.legend()\r\n",
        "plt.show()"
      ],
      "execution_count": 16,
      "outputs": [
        {
          "output_type": "display_data",
          "data": {
            "image/png": "[encoded data removed]",
            "text/plain": [
              "<Figure size 432x288 with 1 Axes>"
            ]
          },
          "metadata": {
            "tags": [],
            "needs_background": "light"
          }
        }
      ]
    },
    {
      "cell_type": "code",
      "metadata": {
        "colab": {
          "base_uri": "https://localhost:8080/"
        },
        "id": "7Ig5Da0kzj-y",
        "outputId": "8597042e-e580-430e-ab81-5ee983a05cea"
      },
      "source": [
        "model = models.Sequential()\r\n",
        "model.add(layers.Dense(64, activation='relu', input_shape=(10000,)))\r\n",
        "model.add(layers.Dense(64,activation='relu'))\r\n",
        "model.add(layers.Dense(46,activation='softmax'))\r\n",
        "\r\n",
        "model.compile(optimizer='rmsprop', loss='categorical_crossentropy', metrics=['accuracy'])\r\n",
        "model.fit(partial_x_train,partial_y_train,epochs=9,batch_size=512,validation_data=(x_val,y_val))"
      ],
      "execution_count": 41,
      "outputs": [
        {
          "output_type": "stream",
          "text": [
            "Epoch 1/9\n",
            "16/16 [==============================] - 1s 56ms/step - loss: 3.1680 - accuracy: 0.3813 - val_loss: 1.7634 - val_accuracy: 0.6490\n",
            "Epoch 2/9\n",
            "16/16 [==============================] - 1s 47ms/step - loss: 1.5456 - accuracy: 0.6918 - val_loss: 1.3273 - val_accuracy: 0.6930\n",
            "Epoch 3/9\n",
            "16/16 [==============================] - 1s 47ms/step - loss: 1.1304 - accuracy: 0.7540 - val_loss: 1.1307 - val_accuracy: 0.7580\n",
            "Epoch 4/9\n",
            "16/16 [==============================] - 1s 47ms/step - loss: 0.8699 - accuracy: 0.8127 - val_loss: 1.0259 - val_accuracy: 0.7840\n",
            "Epoch 5/9\n",
            "16/16 [==============================] - 1s 46ms/step - loss: 0.6536 - accuracy: 0.8619 - val_loss: 0.9563 - val_accuracy: 0.7970\n",
            "Epoch 6/9\n",
            "16/16 [==============================] - 1s 46ms/step - loss: 0.5221 - accuracy: 0.8947 - val_loss: 0.9138 - val_accuracy: 0.8170\n",
            "Epoch 7/9\n",
            "16/16 [==============================] - 1s 47ms/step - loss: 0.4220 - accuracy: 0.9131 - val_loss: 0.9301 - val_accuracy: 0.8150\n",
            "Epoch 8/9\n",
            "16/16 [==============================] - 1s 58ms/step - loss: 0.3493 - accuracy: 0.9295 - val_loss: 0.8867 - val_accuracy: 0.8210\n",
            "Epoch 9/9\n",
            "16/16 [==============================] - 1s 45ms/step - loss: 0.2685 - accuracy: 0.9456 - val_loss: 0.9191 - val_accuracy: 0.8130\n"
          ],
          "name": "stdout"
        },
        {
          "output_type": "execute_result",
          "data": {
            "text/plain": [
              "<tensorflow.python.keras.callbacks.History at 0x7f15edffd908>"
            ]
          },
          "metadata": {
            "tags": []
          },
          "execution_count": 41
        }
      ]
    },
    {
      "cell_type": "code",
      "metadata": {
        "colab": {
          "base_uri": "https://localhost:8080/"
        },
        "id": "5Yp-46ut02Pj",
        "outputId": "32c9ccf2-513f-4db0-cb7f-aaab281de341"
      },
      "source": [
        "results = model.evaluate(x_test, one_hot_test_labels)\r\n",
        "results"
      ],
      "execution_count": 42,
      "outputs": [
        {
          "output_type": "stream",
          "text": [
            "71/71 [==============================] - 0s 3ms/step - loss: 1.0101 - accuracy: 0.7823\n"
          ],
          "name": "stdout"
        },
        {
          "output_type": "execute_result",
          "data": {
            "text/plain": [
              "[1.0100523233413696, 0.7822796106338501]"
            ]
          },
          "metadata": {
            "tags": []
          },
          "execution_count": 42
        }
      ]
    },
    {
      "cell_type": "code",
      "metadata": {
        "id": "gPiug-4k3jjR"
      },
      "source": [
        "predictions = model.predict(x_test)"
      ],
      "execution_count": 24,
      "outputs": []
    }
  ]
}